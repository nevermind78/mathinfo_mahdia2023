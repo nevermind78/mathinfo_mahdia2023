{
 "cells": [
  {
   "cell_type": "markdown",
   "metadata": {
    "colab_type": "text",
    "id": "view-in-github"
   },
   "source": [
    "<a href=\"https://colab.research.google.com/github/jermwatt/machine_learning_refined/blob/main/notes/5_Linear_regression/5_7_Probabilistic.ipynb\" target=\"_parent\"><img src=\"https://colab.research.google.com/assets/colab-badge.svg\" alt=\"Open In Colab\"/></a>"
   ]
  },
  {
   "cell_type": "markdown",
   "metadata": {
    "id": "pOJUfi0H_4ec"
   },
   "source": [
    "## Chapter 5: Linear regression"
   ]
  },
  {
   "cell_type": "markdown",
   "metadata": {
    "id": "oZMrkKOR_4ef"
   },
   "source": [
    "# The probabilistic perspective on Least Squares linear regression"
   ]
  },
  {
   "cell_type": "markdown",
   "metadata": {
    "id": "O8bUep1x_4ef"
   },
   "source": [
    "In Section 8.1 we took a *geometric* perspective in deriving the Least Squares linear regression, but one can also think about this kind of regression from a *probabilistic* perspective as well (this is also true of the Least Absolute Deviations cost).  We offer this perspective here.  Note that this requires knowledge of additional probabilistic tools like distributions and maximum likelihood."
   ]
  },
  {
   "cell_type": "code",
   "execution_count": null,
   "metadata": {
    "colab": {
     "base_uri": "https://localhost:8080/"
    },
    "id": "i0IkLA4P_4ef",
    "outputId": "ccbe128b-6aa3-4cc0-b2ec-e779b9c090c0"
   },
   "outputs": [],
   "source": [
    "# import standard libs\n",
    "import os\n",
    "\n",
    "# if on collab pull required subdirectories\n",
    "if os.getenv(\"COLAB_RELEASE_TAG\"): \n",
    "    # install github clone - allows for easy cloning of subdirectories\n",
    "    !pip install github-clone\n",
    "    from pathlib import Path \n",
    "\n",
    "    # clone datasets\n",
    "    if not Path('chapter_5_datasets').is_dir():\n",
    "        !ghclone https://github.com/jermwatt/machine_learning_refined/tree/main/notes/5_Linear_regression/chapter_5_datasets\n",
    "    else:\n",
    "        print('chapter_5_datasets already cloned!')\n",
    "\n",
    "    # clone library subdirectory\n",
    "    if not Path('chapter_5_library').is_dir():\n",
    "        !ghclone https://github.com/jermwatt/machine_learning_refined/tree/main/notes/5_Linear_regression/chapter_5_library\n",
    "    else:\n",
    "        print('chapter_5_library already cloned!')\n",
    "\n",
    "# append path for local library, data, and image import\n",
    "import sys\n",
    "sys.path.append('./chapter_5_library')\n",
    "sys.path.append('./chapter_5_datasets') \n",
    "\n",
    "# import section helper\n",
    "import section_5_7_helpers\n",
    "\n",
    "# dataset paths\n",
    "data_path_1 = 'chapter_5_datasets/climate_data.csv'\n",
    "data_path_2 = 'chapter_5_datasets/mother_daughter.csv'\n",
    "\n",
    "\n",
    "# standard imports\n",
    "import matplotlib.pyplot as plt\n",
    "\n",
    "# import autograd-wrapped numpy\n",
    "import autograd.numpy as np\n",
    "\n",
    "# this is needed to compensate for matplotlib notebook's tendancy to blow up images when plotted inline\n",
    "%matplotlib inline\n",
    "from matplotlib import rcParams\n",
    "rcParams['figure.autolayout'] = True\n",
    "\n",
    "%load_ext autoreload\n",
    "%autoreload 2"
   ]
  },
  {
   "cell_type": "markdown",
   "metadata": {
    "id": "e4BhHfd6_4eh"
   },
   "source": [
    "###  Assumption 1: geometric relationship"
   ]
  },
  {
   "cell_type": "markdown",
   "metadata": {
    "id": "P2GzzVk3_4eh"
   },
   "source": [
    "As we saw in subsection 8.1, to derive Least Squares probablistically we rely on the fundamental assumption that the relationship between input and output variables is (approximately) linear. That is, we have for all $P$ input/output pairs of data that\n",
    "\n",
    "\\begin{equation}\n",
    "\\mathring{\\mathbf{x}}_{p}^T\\mathbf{w} \\approx \\overset{\\,}{y}_{p}.\n",
    "\\end{equation}"
   ]
  },
  {
   "cell_type": "markdown",
   "metadata": {
    "id": "HfdTa6X9_4ei"
   },
   "source": [
    "###  Assumption 2: noise distribution"
   ]
  },
  {
   "cell_type": "markdown",
   "metadata": {
    "id": "SOc7rJSO_4ei"
   },
   "source": [
    "In addition to the assumed linear relationship,we make an additional assumption on the 'noise' - that is the difference $\\mathring{\\mathbf{x}}_{p}^T\\mathbf{w} - \\overset{\\,}{y}_{p}$.  Denoting the difference between $\\overset{\\,}{y}_{p}$ and $\\mathring{\\mathbf{x}}_{p}^T\\mathbf{w}$ as $\\varepsilon_p$, we can replace our *approximate* equalities with *exact* equalities of the form\n",
    "\n",
    "\\begin{equation}\n",
    "\\mathring{\\mathbf{x}}_{p}^T\\mathbf{w} +\\overset{\\,}{\\varepsilon}_p^{\\,} = \\overset{\\,}{y}_{p} ,\\quad p=1,...,P\n",
    "\\end{equation}\n",
    "\n",
    "where $\\varepsilon_p$'s can be interpreted as error or noise in the data. With this new notation, the Least Squares cost for linear regression can be written, in terms of $\\varepsilon_p$'s, as  \n",
    "\n",
    "\\begin{equation}\n",
    "\\,g\\left(\\mathbf{w}\\right) = \\frac{1}{P}\\sum_{p=1}^{P}\\left(\\mathring{\\mathbf{x}}_{p}^T\\mathbf{w} - \\overset{\\,}{y}_{p}\\right)^{2} = \\frac{1}{P}\\sum_{p=1}^{P} \\overset{\\,}{\\varepsilon}_p^2\n",
    "\\end{equation}\n",
    "\n",
    "Put into words, with linear regression we aim to find the parameters $w_0$ and $\\mathbf{w}$ that minimize the total squared noise - a quantity that is referred to as *the noise energy* in signal processing contexts.\n",
    "\n",
    "Now one might rightfully ask: what is the point of introducing $P$ new variables $\\left\\{ \\varepsilon_p \\right\\} _{p=1}^{P}$ to our model when their values are unknown to begin with? While it is true that we do not know the exact $\\varepsilon_p$ values, we can nonetheless make assumptions about their distribution that enable us to find $w_0$ and $\\mathbf{w}$ (and $\\varepsilon_p$'s successively) in a probabilistic framework.  Specifically we make the assumption that $\\left\\{ \\varepsilon_p \\right\\} _{p=1}^{P}$ are drawn from a zero-mean Gaussian distribution.  In other words, we assume that the noise is normally distributed with an *expected value* of $0$. Before getting into why this assumption is necessary to make from a theoretical standpoint, let us examine its validity using a number of real regression datasets.  "
   ]
  },
  {
   "cell_type": "markdown",
   "metadata": {
    "id": "s8W43Skm_4ej"
   },
   "source": [
    "#### <span style=\"color:#a50e3e;\">Example 1: </span>  Rising sea levels "
   ]
  },
  {
   "cell_type": "markdown",
   "metadata": {
    "id": "TzmfvY21_4ej"
   },
   "source": [
    "In the ``Python`` cell below we plot both the Least Squares trend line fit to a dataset [[1]](#bib_cell) consisting of satellite measurements of global mean sea level changes on earth from 1993 to 2014 (left panel), as well as the estimated noise distribution according to the learned trend line (right panel).   "
   ]
  },
  {
   "cell_type": "code",
   "execution_count": 3,
   "metadata": {
    "colab": {
     "base_uri": "https://localhost:8080/",
     "height": 225
    },
    "id": "cy1jRsZh_4ej",
    "outputId": "e745182a-7344-43fd-ec34-433d31a7a342"
   },
   "outputs": [
    {
     "data": {
      "image/png": "[encoded data removed]",
      "text/plain": [
       "<Figure size 576x216 with 2 Axes>"
      ]
     },
     "metadata": {
      "needs_background": "light"
     },
     "output_type": "display_data"
    }
   ],
   "source": [
    "# load in dataset\n",
    "data = np.loadtxt(data_path_1, delimiter = ',')\n",
    "\n",
    "# produce demo\n",
    "demo = section_5_7_helpers.visualizer(data)\n",
    "\n",
    "# solve Least Squares \n",
    "demo.run_algo(algo='newtons_method', w_init = np.random.randn(2,1), max_its = 1)\n",
    "\n",
    "# visualize results\n",
    "demo.error_hist(num_bins=30, xlabel='date', ylabel='sea level', show_pdf='on')"
   ]
  },
  {
   "cell_type": "markdown",
   "metadata": {
    "id": "FOeNvFDT_4ek"
   },
   "source": [
    "#### <span style=\"color:#a50e3e;\">Example 2: </span> The relationship between the height of mother and the height of daughter "
   ]
  },
  {
   "cell_type": "markdown",
   "metadata": {
    "id": "ZaqIe7W6_4ek"
   },
   "source": [
    "As another example let us look at Francis Galton's height dataset, who collected this data in 1885 in an attempt to explore the relationship between the heights of the parents and the heights of their adult children. In ``Python`` cell below we plot the portion of Galton's dataset [[2]](#bib_cell) which connects the height of the mother (input) to the height of her daughter (output), once again plotted along with the error distribution on the right.  "
   ]
  },
  {
   "cell_type": "code",
   "execution_count": 4,
   "metadata": {
    "colab": {
     "base_uri": "https://localhost:8080/",
     "height": 225
    },
    "id": "VhM6qWEO_4ek",
    "outputId": "09beca2c-c012-4824-ae98-52d9a6a80931"
   },
   "outputs": [
    {
     "data": {
      "image/png": "[encoded data removed]",
      "text/plain": [
       "<Figure size 576x216 with 2 Axes>"
      ]
     },
     "metadata": {
      "needs_background": "light"
     },
     "output_type": "display_data"
    }
   ],
   "source": [
    "# load in dataset\n",
    "data = np.loadtxt(data_path_2, delimiter = ',')\n",
    "\n",
    "# produce demo\n",
    "demo = section_5_7_helpers.visualizer(data)\n",
    "\n",
    "# solve Least Squares\n",
    "demo.run_algo(algo='newtons_method', w_init = np.random.randn(2,1), max_its = 1)\n",
    "\n",
    "# visualize results\n",
    "demo.error_hist(num_bins = 30, xlabel='height of mother', ylabel='height of daughter', show_pdf='on')"
   ]
  },
  {
   "cell_type": "markdown",
   "metadata": {
    "id": "79WkTgJm_4el"
   },
   "source": [
    "In both cases as you can see it looks like that the noise does follow a zero-mean Gaussian distribution, and hence our assumption is not far-fetched.\n",
    "\n",
    "Since we have $\\overset{\\,}{y}_{p} = \\mathring{\\mathbf{x}}_{p}^T\\mathbf{w} +\\varepsilon_p$ for all $p$, this means that, given the values of $\\mathbf{x}_{p}$ and $\\mathbf{w}$, each $y_p$ is also Gaussian with the same variance as the noise distribution - which we denote by $\\sigma^2$ - and a (shifted) mean value of $\\mathring{\\mathbf{x}}_{p}^T\\mathbf{w}$. Hence, with our first assumption, we have\n",
    "\n",
    "\\begin{equation}\n",
    "{\\cal P}\\left(y=y_{p}\\,|\\,\\mathbf{x}_{p},\\mathbf{w}\\right)=\\frac{1}{\\sqrt{2\\pi}\\,\\sigma}e^{\\,\\frac{-1}{2\\sigma^{2}}\\left( \\mathring{\\mathbf{x}}_{p}^T\\mathbf{w} - y_p\\right)^{2}} ,\\quad p=1,...,P\n",
    "\\end{equation}"
   ]
  },
  {
   "cell_type": "markdown",
   "metadata": {
    "id": "5l0OOHl8_4el"
   },
   "source": [
    "Note: to derive the Least Absolute Deviations cost discussed in Section 8.2 we need only make a small change here: instead of a Gaussian distribution we use an *exponential* one."
   ]
  },
  {
   "cell_type": "markdown",
   "metadata": {
    "id": "JZMjlmJw_4el"
   },
   "source": [
    "###   Assumption 3: statistical independence"
   ]
  },
  {
   "cell_type": "markdown",
   "metadata": {
    "id": "lsaNhJy9_4el"
   },
   "source": [
    "This brings us to the second theoretical assumption we make here, that $\\left\\{ y_p \\right\\} _{p=1}^{P}$ are statistically independent of each other.  In many cases it makes intuitive sense to assume that our observations are (or can be) made independently of one another other, as long as there is no temporal, spatial, or other kind of correlation in the data. "
   ]
  },
  {
   "cell_type": "markdown",
   "metadata": {
    "id": "-78IuO27_4em"
   },
   "source": [
    "With these three assumptions we can now form the (joint) likelihood of our data and maximize it to recover model parameters.  Specifically, using the independence assumption we can write the likelihood as\n",
    "\n",
    "\\begin{equation}\n",
    "{\\cal L}=\\prod_{p=1}^{P}{\\cal P}\\left(y=y_{p}\\,|\\,\\mathbf{x}_{p},\\mathbf{w}\\right)\n",
    "\\end{equation}  \n",
    "\n",
    "Recall, as discussed in our series on *the fundamentals of probability and statistics*, that maximizing the likelihood is mathematically equivalent to minimizing its negative log-likelihood, giving the probabilistic cost function\n",
    "\n",
    "\\begin{equation}\n",
    "g\\left(\\mathbf{w},\\sigma\\right)=-\\sum_{p=1}^{P}\\text{log}\\,{\\cal P}\\left(y=y_{p}\\,|\\,\\mathbf{x}_{p},\\mathbf{w}\\right)\n",
    "\\end{equation}  \n",
    "\n",
    "to be minimized over $\\mathbf{w}$, and the noise standard deviation $\\sigma$. "
   ]
  },
  {
   "cell_type": "markdown",
   "metadata": {
    "id": "V777fkWF_4em"
   },
   "source": [
    "Our second assumption on the distribution of noise makes it possible to write the exact form of $g$, with some algebra, as \n",
    "\n",
    "\\begin{equation}\n",
    "g\\left(\\mathbf{w},\\sigma\\right)=P\\,\\text{log}\\left(\\sqrt{2\\pi}\\,\\sigma\\right)+\\frac{1}{2\\sigma^{2}}\\sum_{p=1}^{P} \\left(  \\mathring{\\mathbf{x}}_{p}^T\\mathbf{w}-y_p\\right)^{2}.\n",
    "\\end{equation}  "
   ]
  },
  {
   "cell_type": "markdown",
   "metadata": {
    "id": "rF5Escdx_4em"
   },
   "source": [
    "Checking the first order condition for optimality we have\n",
    "\n",
    "\\begin{equation}\n",
    "\\begin{array}{c}\n",
    "\\nabla_{{\\mathbf{w}}}g\\left({\\mathbf{w}},\\sigma\\right)= \\frac{1}{\\sigma^{2}}\\sum_{p=1}^{P}  \\mathring{\\mathbf{x}}_{p}^{\\,}\\left(\\mathring{\\mathbf{x}}_{p}^T\\mathbf{w} - y_p \\right)=\\mathbf{0} \\\\\n",
    "\\frac{\\partial}{\\partial\\sigma}g\\left({\\mathbf{w}},\\sigma\\right)= \\frac{P}{\\sigma}-\\frac{1}{\\sigma^{3}}\\sum_{p=1}^{P} \\left( \\mathring{\\mathbf{x}}_{p}^T\\mathbf{w} - y_p\\right)^{2}=0\n",
    "\\end{array}\n",
    "\\end{equation}\n",
    "\n"
   ]
  },
  {
   "cell_type": "markdown",
   "metadata": {
    "id": "NVaoNbPh_4em"
   },
   "source": [
    "The first equation gives the linear system \n",
    "\n",
    "\\begin{equation}\n",
    "\\left(\\sum_{p=1}^{P}  \\mathring{\\mathbf{x}}_{p}^{\\,} \\mathring{\\mathbf{x}}_{p}^T \\right) \\mathbf{w}_{\\,}^{\\,} =  \\sum_{p=1}^{P}  \\mathring{\\mathbf{x}}_{p}^{\\,} \\overset{\\,}{y}_p^{\\,}\n",
    "\\end{equation}\n",
    "\n",
    "whose solution $\\widetilde{\\mathbf{w}}^\\star$ can be used in the second equation to find the optimal value for the noise variance, as\n",
    "\n",
    "\\begin{equation}\n",
    "\\sigma^2 = \\frac{1}{P}\\sum_{p=1}^{P} \\left( \\mathring{\\mathbf{x}}_{p}^{\\,}\\mathbf{w}^{\\star} - {y}_p^{\\,}\\right)^{2}\n",
    "\\end{equation}"
   ]
  },
  {
   "cell_type": "markdown",
   "metadata": {
    "id": "QuAV-Hee_4em"
   },
   "source": [
    "Note that the linear system characterizing the fit here is identical to what we derived previously in Subsection 1.3, where interestingly enough, we found the same solution through minimizing the Least Squares cost and without making any of the statistical assumptions made here.   "
   ]
  },
  {
   "cell_type": "markdown",
   "metadata": {
    "id": "oLzpGL7X_4en"
   },
   "source": [
    "> The maximum likelihood solution derived here using the assumptions on noise distribution and independence of data is identical to the Least Squares solution derived previously from a geometric perspective."
   ]
  },
  {
   "cell_type": "markdown",
   "metadata": {
    "id": "-uF022YR_4en"
   },
   "source": [
    "Even though it was necessary to assume a Gaussian distribution on the noise in order to re-derive the Least Squares solution from a probabilistic perspective, in practice we can still use Least Squares on datasets where the noise distribution is not necessarily Gaussian.   "
   ]
  },
  {
   "cell_type": "markdown",
   "metadata": {
    "id": "aFKn0kK0_4en"
   },
   "source": [
    "#### <span style=\"color:#a50e3e;\">Example 3: </span> Least Squares and uniformly distributed noise"
   ]
  },
  {
   "cell_type": "markdown",
   "metadata": {
    "id": "ks6NgW8Q_4en"
   },
   "source": [
    "In the ``Python`` cell below we create a simulated dataset with uniformly distributed noise and fit a Least Squares line to it as we did previously in Examples 6 and 7. As you can see, the Least Squares solution still provides a good fit to the data even though the assumption of Gaussian distribution on noise is not met. The right panel here shows the distribution of noise (according to the learned Least Squares fit), which is visibly not Gaussian."
   ]
  },
  {
   "cell_type": "code",
   "execution_count": 5,
   "metadata": {
    "colab": {
     "base_uri": "https://localhost:8080/",
     "height": 225
    },
    "id": "ZPA1C6YF_4en",
    "outputId": "56580b6c-9488-4c19-f0e6-4d0f92c691dc"
   },
   "outputs": [
    {
     "data": {
      "image/png": "[encoded data removed]",
      "text/plain": [
       "<Figure size 576x216 with 2 Axes>"
      ]
     },
     "metadata": {
      "needs_background": "light"
     },
     "output_type": "display_data"
    }
   ],
   "source": [
    "# make and load a simulated dataset with uniformly distributed noise\n",
    "num_pts = 200\n",
    "x = np.random.rand(num_pts)\n",
    "y = 4*x + np.random.rand(num_pts) \n",
    "x.shape = (len(x),1)\n",
    "y.shape = (len(y),1)\n",
    "data = np.concatenate((x,y),axis = 1)\n",
    "\n",
    "# produce demo\n",
    "demo = section_5_7_helpers.visualizer(data)\n",
    "\n",
    "# solve Least Squares\n",
    "demo.run_algo(algo='newtons_method', w_init = np.random.randn(2,1), max_its = 1)\n",
    "\n",
    "# visualize results\n",
    "demo.error_hist(num_bins = 30)"
   ]
  },
  {
   "cell_type": "markdown",
   "metadata": {
    "id": "dxidgn-y_4en"
   },
   "source": [
    "<a id='bib_cell'></a>\n",
    "\n",
    "### Data sources\n",
    "\n",
    "[1] RS Nerem, DP Chambers, C Choe, and GT Mitchum. Estimating mean sea level change from the topex and jason altimeter missions. Marine Geodesy, 33(S1):435–446, 2010.\n",
    "\n",
    "[2] Data taken from https://www.statcrunch.com/5.0/shareddata.php?keywords=Galton"
   ]
  }
 ],
 "metadata": {
  "colab": {
   "include_colab_link": true,
   "provenance": []
  },
  "kernelspec": {
   "display_name": "Python 3 (ipykernel)",
   "language": "python",
   "name": "python3"
  },
  "language_info": {
   "codemirror_mode": {
    "name": "ipython",
    "version": 3
   },
   "file_extension": ".py",
   "mimetype": "text/x-python",
   "name": "python",
   "nbconvert_exporter": "python",
   "pygments_lexer": "ipython3",
   "version": "3.8.10"
  },
  "toc": {
   "colors": {
    "hover_highlight": "#DAA520",
    "navigate_num": "#000000",
    "navigate_text": "#333333",
    "running_highlight": "#FF0000",
    "selected_highlight": "#FFD700",
    "sidebar_border": "#EEEEEE",
    "wrapper_background": "#FFFFFF"
   },
   "moveMenuLeft": true,
   "nav_menu": {
    "height": "49px",
    "width": "252px"
   },
   "navigate_menu": true,
   "number_sections": false,
   "sideBar": true,
   "threshold": 4,
   "toc_cell": false,
   "toc_section_display": "block",
   "toc_window_display": false,
   "widenNotebook": false
  }
 },
 "nbformat": 4,
 "nbformat_minor": 1
}
